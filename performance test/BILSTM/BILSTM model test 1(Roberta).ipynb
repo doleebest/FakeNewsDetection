{
 "cells": [
  {
   "cell_type": "code",
   "execution_count": 1,
   "metadata": {},
   "outputs": [],
   "source": [
    "import pandas as pd\n",
    "import tensorflow as tf\n",
    "from transformers import RobertaTokenizer, TFRobertaModel\n",
    "from sklearn.model_selection import train_test_split\n",
    "from sklearn.metrics import classification_report"
   ]
  },
  {
   "cell_type": "code",
   "execution_count": 2,
   "metadata": {},
   "outputs": [
    {
     "name": "stdout",
     "output_type": "stream",
     "text": [
      "28\n",
      "7546\n"
     ]
    },
    {
     "data": {
      "text/html": [
       "<div>\n",
       "<style scoped>\n",
       "    .dataframe tbody tr th:only-of-type {\n",
       "        vertical-align: middle;\n",
       "    }\n",
       "\n",
       "    .dataframe tbody tr th {\n",
       "        vertical-align: top;\n",
       "    }\n",
       "\n",
       "    .dataframe thead th {\n",
       "        text-align: right;\n",
       "    }\n",
       "</style>\n",
       "<table border=\"1\" class=\"dataframe\">\n",
       "  <thead>\n",
       "    <tr style=\"text-align: right;\">\n",
       "      <th></th>\n",
       "      <th>title</th>\n",
       "      <th>text</th>\n",
       "      <th>label</th>\n",
       "    </tr>\n",
       "  </thead>\n",
       "  <tbody>\n",
       "    <tr>\n",
       "      <th>0</th>\n",
       "      <td>You Can Smell Hillary’s FearDaniel Greenfield,...</td>\n",
       "      <td>Daniel Greenfield, a Shillman Journalism Fello...</td>\n",
       "      <td>FAKE</td>\n",
       "    </tr>\n",
       "    <tr>\n",
       "      <th>1</th>\n",
       "      <td>Watch The Exact Moment Paul Ryan Committed Pol...</td>\n",
       "      <td>Google Pinterest Digg Linkedin Reddit Stumbleu...</td>\n",
       "      <td>FAKE</td>\n",
       "    </tr>\n",
       "    <tr>\n",
       "      <th>2</th>\n",
       "      <td>Kerry to go to Paris in gesture of sympathyU.S...</td>\n",
       "      <td>U.S. Secretary of State John F. Kerry said Mon...</td>\n",
       "      <td>REAL</td>\n",
       "    </tr>\n",
       "    <tr>\n",
       "      <th>3</th>\n",
       "      <td>Bernie supporters on Twitter erupt in anger ag...</td>\n",
       "      <td>— Kaydee King (@KaydeeKing) November 9, 2016 T...</td>\n",
       "      <td>FAKE</td>\n",
       "    </tr>\n",
       "    <tr>\n",
       "      <th>4</th>\n",
       "      <td>The Battle of New York: Why This Primary Matte...</td>\n",
       "      <td>It's primary day in New York and front-runners...</td>\n",
       "      <td>REAL</td>\n",
       "    </tr>\n",
       "    <tr>\n",
       "      <th>...</th>\n",
       "      <td>...</td>\n",
       "      <td>...</td>\n",
       "      <td>...</td>\n",
       "    </tr>\n",
       "    <tr>\n",
       "      <th>6330</th>\n",
       "      <td>State Department says it can't find emails fro...</td>\n",
       "      <td>The State Department told the Republican Natio...</td>\n",
       "      <td>REAL</td>\n",
       "    </tr>\n",
       "    <tr>\n",
       "      <th>6331</th>\n",
       "      <td>The ‘P’ in PBS Should Stand for ‘Plutocratic’ ...</td>\n",
       "      <td>The ‘P’ in PBS Should Stand for ‘Plutocratic’ ...</td>\n",
       "      <td>FAKE</td>\n",
       "    </tr>\n",
       "    <tr>\n",
       "      <th>6332</th>\n",
       "      <td>Anti-Trump Protesters Are Tools of the Oligarc...</td>\n",
       "      <td>Anti-Trump Protesters Are Tools of the Oligar...</td>\n",
       "      <td>FAKE</td>\n",
       "    </tr>\n",
       "    <tr>\n",
       "      <th>6333</th>\n",
       "      <td>In Ethiopia, Obama seeks progress on peace, se...</td>\n",
       "      <td>ADDIS ABABA, Ethiopia —President Obama convene...</td>\n",
       "      <td>REAL</td>\n",
       "    </tr>\n",
       "    <tr>\n",
       "      <th>6334</th>\n",
       "      <td>Jeb Bush Is Suddenly Attacking Trump. Here's W...</td>\n",
       "      <td>Jeb Bush Is Suddenly Attacking Trump. Here's W...</td>\n",
       "      <td>REAL</td>\n",
       "    </tr>\n",
       "  </tbody>\n",
       "</table>\n",
       "<p>6335 rows × 3 columns</p>\n",
       "</div>"
      ],
      "text/plain": [
       "                                                  title  \\\n",
       "0     You Can Smell Hillary’s FearDaniel Greenfield,...   \n",
       "1     Watch The Exact Moment Paul Ryan Committed Pol...   \n",
       "2     Kerry to go to Paris in gesture of sympathyU.S...   \n",
       "3     Bernie supporters on Twitter erupt in anger ag...   \n",
       "4     The Battle of New York: Why This Primary Matte...   \n",
       "...                                                 ...   \n",
       "6330  State Department says it can't find emails fro...   \n",
       "6331  The ‘P’ in PBS Should Stand for ‘Plutocratic’ ...   \n",
       "6332  Anti-Trump Protesters Are Tools of the Oligarc...   \n",
       "6333  In Ethiopia, Obama seeks progress on peace, se...   \n",
       "6334  Jeb Bush Is Suddenly Attacking Trump. Here's W...   \n",
       "\n",
       "                                                   text label  \n",
       "0     Daniel Greenfield, a Shillman Journalism Fello...  FAKE  \n",
       "1     Google Pinterest Digg Linkedin Reddit Stumbleu...  FAKE  \n",
       "2     U.S. Secretary of State John F. Kerry said Mon...  REAL  \n",
       "3     — Kaydee King (@KaydeeKing) November 9, 2016 T...  FAKE  \n",
       "4     It's primary day in New York and front-runners...  REAL  \n",
       "...                                                 ...   ...  \n",
       "6330  The State Department told the Republican Natio...  REAL  \n",
       "6331  The ‘P’ in PBS Should Stand for ‘Plutocratic’ ...  FAKE  \n",
       "6332   Anti-Trump Protesters Are Tools of the Oligar...  FAKE  \n",
       "6333  ADDIS ABABA, Ethiopia —President Obama convene...  REAL  \n",
       "6334  Jeb Bush Is Suddenly Attacking Trump. Here's W...  REAL  \n",
       "\n",
       "[6335 rows x 3 columns]"
      ]
     },
     "execution_count": 2,
     "metadata": {},
     "output_type": "execute_result"
    }
   ],
   "source": [
    "data = pd.read_csv(\"/Users/withmocha/Desktop/DATA/BOAZ/미니 프로젝트 1/data/test data/news.csv\")\n",
    "data\n",
    "data.drop(data.columns[0], axis=1, inplace=True)\n",
    "print(len(data.iloc[0,0]))\n",
    "data['title'] = data['title'] + data['text']\n",
    "print(len(data.iloc[0,0]))\n",
    "data"
   ]
  },
  {
   "cell_type": "code",
   "execution_count": 3,
   "metadata": {},
   "outputs": [],
   "source": [
    "for i in range(data.shape[0]):\n",
    "    if data.iloc[i,2]=='FAKE':\n",
    "        data.iloc[i,2]=1\n",
    "    else:\n",
    "        data.iloc[i,2]=0"
   ]
  },
  {
   "cell_type": "code",
   "execution_count": 4,
   "metadata": {},
   "outputs": [],
   "source": [
    "X = pd.DataFrame(data=data['title'])\n",
    "Y = pd.DataFrame(data=data['label'])"
   ]
  },
  {
   "cell_type": "code",
   "execution_count": 5,
   "metadata": {},
   "outputs": [
    {
     "data": {
      "text/html": [
       "<div>\n",
       "<style scoped>\n",
       "    .dataframe tbody tr th:only-of-type {\n",
       "        vertical-align: middle;\n",
       "    }\n",
       "\n",
       "    .dataframe tbody tr th {\n",
       "        vertical-align: top;\n",
       "    }\n",
       "\n",
       "    .dataframe thead th {\n",
       "        text-align: right;\n",
       "    }\n",
       "</style>\n",
       "<table border=\"1\" class=\"dataframe\">\n",
       "  <thead>\n",
       "    <tr style=\"text-align: right;\">\n",
       "      <th></th>\n",
       "      <th>title</th>\n",
       "    </tr>\n",
       "  </thead>\n",
       "  <tbody>\n",
       "    <tr>\n",
       "      <th>0</th>\n",
       "      <td>You Can Smell Hillary’s FearDaniel Greenfield,...</td>\n",
       "    </tr>\n",
       "    <tr>\n",
       "      <th>1</th>\n",
       "      <td>Watch The Exact Moment Paul Ryan Committed Pol...</td>\n",
       "    </tr>\n",
       "    <tr>\n",
       "      <th>2</th>\n",
       "      <td>Kerry to go to Paris in gesture of sympathyU.S...</td>\n",
       "    </tr>\n",
       "    <tr>\n",
       "      <th>3</th>\n",
       "      <td>Bernie supporters on Twitter erupt in anger ag...</td>\n",
       "    </tr>\n",
       "    <tr>\n",
       "      <th>4</th>\n",
       "      <td>The Battle of New York: Why This Primary Matte...</td>\n",
       "    </tr>\n",
       "    <tr>\n",
       "      <th>...</th>\n",
       "      <td>...</td>\n",
       "    </tr>\n",
       "    <tr>\n",
       "      <th>6330</th>\n",
       "      <td>State Department says it can't find emails fro...</td>\n",
       "    </tr>\n",
       "    <tr>\n",
       "      <th>6331</th>\n",
       "      <td>The ‘P’ in PBS Should Stand for ‘Plutocratic’ ...</td>\n",
       "    </tr>\n",
       "    <tr>\n",
       "      <th>6332</th>\n",
       "      <td>Anti-Trump Protesters Are Tools of the Oligarc...</td>\n",
       "    </tr>\n",
       "    <tr>\n",
       "      <th>6333</th>\n",
       "      <td>In Ethiopia, Obama seeks progress on peace, se...</td>\n",
       "    </tr>\n",
       "    <tr>\n",
       "      <th>6334</th>\n",
       "      <td>Jeb Bush Is Suddenly Attacking Trump. Here's W...</td>\n",
       "    </tr>\n",
       "  </tbody>\n",
       "</table>\n",
       "<p>6335 rows × 1 columns</p>\n",
       "</div>"
      ],
      "text/plain": [
       "                                                  title\n",
       "0     You Can Smell Hillary’s FearDaniel Greenfield,...\n",
       "1     Watch The Exact Moment Paul Ryan Committed Pol...\n",
       "2     Kerry to go to Paris in gesture of sympathyU.S...\n",
       "3     Bernie supporters on Twitter erupt in anger ag...\n",
       "4     The Battle of New York: Why This Primary Matte...\n",
       "...                                                 ...\n",
       "6330  State Department says it can't find emails fro...\n",
       "6331  The ‘P’ in PBS Should Stand for ‘Plutocratic’ ...\n",
       "6332  Anti-Trump Protesters Are Tools of the Oligarc...\n",
       "6333  In Ethiopia, Obama seeks progress on peace, se...\n",
       "6334  Jeb Bush Is Suddenly Attacking Trump. Here's W...\n",
       "\n",
       "[6335 rows x 1 columns]"
      ]
     },
     "execution_count": 5,
     "metadata": {},
     "output_type": "execute_result"
    }
   ],
   "source": [
    "X"
   ]
  },
  {
   "cell_type": "code",
   "execution_count": 6,
   "metadata": {},
   "outputs": [
    {
     "data": {
      "text/html": [
       "<div>\n",
       "<style scoped>\n",
       "    .dataframe tbody tr th:only-of-type {\n",
       "        vertical-align: middle;\n",
       "    }\n",
       "\n",
       "    .dataframe tbody tr th {\n",
       "        vertical-align: top;\n",
       "    }\n",
       "\n",
       "    .dataframe thead th {\n",
       "        text-align: right;\n",
       "    }\n",
       "</style>\n",
       "<table border=\"1\" class=\"dataframe\">\n",
       "  <thead>\n",
       "    <tr style=\"text-align: right;\">\n",
       "      <th></th>\n",
       "      <th>label</th>\n",
       "    </tr>\n",
       "  </thead>\n",
       "  <tbody>\n",
       "    <tr>\n",
       "      <th>0</th>\n",
       "      <td>1</td>\n",
       "    </tr>\n",
       "    <tr>\n",
       "      <th>1</th>\n",
       "      <td>1</td>\n",
       "    </tr>\n",
       "    <tr>\n",
       "      <th>2</th>\n",
       "      <td>0</td>\n",
       "    </tr>\n",
       "    <tr>\n",
       "      <th>3</th>\n",
       "      <td>1</td>\n",
       "    </tr>\n",
       "    <tr>\n",
       "      <th>4</th>\n",
       "      <td>0</td>\n",
       "    </tr>\n",
       "    <tr>\n",
       "      <th>...</th>\n",
       "      <td>...</td>\n",
       "    </tr>\n",
       "    <tr>\n",
       "      <th>6330</th>\n",
       "      <td>0</td>\n",
       "    </tr>\n",
       "    <tr>\n",
       "      <th>6331</th>\n",
       "      <td>1</td>\n",
       "    </tr>\n",
       "    <tr>\n",
       "      <th>6332</th>\n",
       "      <td>1</td>\n",
       "    </tr>\n",
       "    <tr>\n",
       "      <th>6333</th>\n",
       "      <td>0</td>\n",
       "    </tr>\n",
       "    <tr>\n",
       "      <th>6334</th>\n",
       "      <td>0</td>\n",
       "    </tr>\n",
       "  </tbody>\n",
       "</table>\n",
       "<p>6335 rows × 1 columns</p>\n",
       "</div>"
      ],
      "text/plain": [
       "     label\n",
       "0        1\n",
       "1        1\n",
       "2        0\n",
       "3        1\n",
       "4        0\n",
       "...    ...\n",
       "6330     0\n",
       "6331     1\n",
       "6332     1\n",
       "6333     0\n",
       "6334     0\n",
       "\n",
       "[6335 rows x 1 columns]"
      ]
     },
     "execution_count": 6,
     "metadata": {},
     "output_type": "execute_result"
    }
   ],
   "source": [
    "Y"
   ]
  },
  {
   "cell_type": "code",
   "execution_count": 7,
   "metadata": {},
   "outputs": [],
   "source": [
    "texts = X['title'].tolist()\n",
    "labels = Y['label'].tolist()\n",
    "texts = [str(text) if pd.notna(text) else \"\" for text in texts]"
   ]
  },
  {
   "cell_type": "code",
   "execution_count": 8,
   "metadata": {},
   "outputs": [],
   "source": [
    "val_texts=texts\n",
    "val_labels=labels"
   ]
  },
  {
   "cell_type": "code",
   "execution_count": 9,
   "metadata": {},
   "outputs": [],
   "source": [
    "tokenizer = RobertaTokenizer.from_pretrained('roberta-base')"
   ]
  },
  {
   "cell_type": "code",
   "execution_count": 10,
   "metadata": {},
   "outputs": [],
   "source": [
    "def encode_data(texts, tokenizer, max_length=128):\n",
    "    input_ids = []\n",
    "    attention_masks = []\n",
    "\n",
    "    for text in texts:\n",
    "        encoded = tokenizer.encode_plus(\n",
    "            text,\n",
    "            max_length=max_length,\n",
    "            truncation=True,\n",
    "            padding='max_length',\n",
    "            add_special_tokens=True,\n",
    "            return_attention_mask=True,\n",
    "            return_tensors='tf'\n",
    "        )\n",
    "        input_ids.append(encoded['input_ids'])\n",
    "        attention_masks.append(encoded['attention_mask'])\n",
    "\n",
    "    return tf.concat(input_ids, axis=0), tf.concat(attention_masks, axis=0)"
   ]
  },
  {
   "cell_type": "code",
   "execution_count": 11,
   "metadata": {},
   "outputs": [],
   "source": [
    "val_input_ids, val_attention_masks = encode_data(val_texts, tokenizer)"
   ]
  },
  {
   "cell_type": "code",
   "execution_count": 12,
   "metadata": {},
   "outputs": [
    {
     "name": "stderr",
     "output_type": "stream",
     "text": [
      "Some weights of the PyTorch model were not used when initializing the TF 2.0 model TFRobertaModel: ['roberta.embeddings.position_ids', 'lm_head.layer_norm.weight', 'lm_head.layer_norm.bias', 'lm_head.dense.bias', 'lm_head.bias', 'lm_head.dense.weight']\n",
      "- This IS expected if you are initializing TFRobertaModel from a PyTorch model trained on another task or with another architecture (e.g. initializing a TFBertForSequenceClassification model from a BertForPreTraining model).\n",
      "- This IS NOT expected if you are initializing TFRobertaModel from a PyTorch model that you expect to be exactly identical (e.g. initializing a TFBertForSequenceClassification model from a BertForSequenceClassification model).\n",
      "Some weights or buffers of the TF 2.0 model TFRobertaModel were not initialized from the PyTorch model and are newly initialized: ['roberta.pooler.dense.weight', 'roberta.pooler.dense.bias']\n",
      "You should probably TRAIN this model on a down-stream task to be able to use it for predictions and inference.\n"
     ]
    }
   ],
   "source": [
    "roberta_model = TFRobertaModel.from_pretrained('roberta-base')"
   ]
  },
  {
   "cell_type": "code",
   "execution_count": 13,
   "metadata": {},
   "outputs": [],
   "source": [
    "def create_transformer_input(input_ids, attention_masks, batch_size=32):\n",
    "    def gen():\n",
    "        for i in range(0, len(input_ids), batch_size):\n",
    "            yield input_ids[i:i + batch_size], attention_masks[i:i + batch_size]\n",
    "\n",
    "    dataset = tf.data.Dataset.from_generator(\n",
    "        gen,\n",
    "        output_signature=(tf.TensorSpec(shape=(None, input_ids.shape[1]), dtype=tf.int32),\n",
    "                          tf.TensorSpec(shape=(None, attention_masks.shape[1]), dtype=tf.int32))\n",
    "    )\n",
    "\n",
    "    features = []\n",
    "    for batch_input_ids, batch_attention_masks in dataset:\n",
    "        outputs = roberta_model(batch_input_ids, attention_mask=batch_attention_masks)\n",
    "        features.append(outputs.last_hidden_state)\n",
    "\n",
    "    return tf.concat(features, axis=0)"
   ]
  },
  {
   "cell_type": "code",
   "execution_count": 14,
   "metadata": {},
   "outputs": [
    {
     "name": "stderr",
     "output_type": "stream",
     "text": [
      "2024-08-25 21:41:30.648599: I tensorflow/core/framework/local_rendezvous.cc:404] Local rendezvous is aborting with status: OUT_OF_RANGE: End of sequence\n"
     ]
    }
   ],
   "source": [
    "val_features = create_transformer_input(val_input_ids, val_attention_masks)"
   ]
  },
  {
   "cell_type": "code",
   "execution_count": 15,
   "metadata": {},
   "outputs": [],
   "source": [
    "import numpy as np\n",
    "\n",
    "val_labels = np.array(val_labels)"
   ]
  },
  {
   "cell_type": "code",
   "execution_count": 16,
   "metadata": {},
   "outputs": [
    {
     "name": "stderr",
     "output_type": "stream",
     "text": [
      "WARNING:absl:At this time, the v2.11+ optimizer `tf.keras.optimizers.Adam` runs slowly on M1/M2 Macs, please use the legacy TF-Keras optimizer instead, located at `tf.keras.optimizers.legacy.Adam`.\n"
     ]
    },
    {
     "name": "stdout",
     "output_type": "stream",
     "text": [
      "Model: \"model_4\"\n",
      "_________________________________________________________________\n",
      " Layer (type)                Output Shape              Param #   \n",
      "=================================================================\n",
      " input_5 (InputLayer)        [(None, 128, 768)]        0         \n",
      "                                                                 \n",
      " bidirectional_4 (Bidirecti  (None, 64)                205056    \n",
      " onal)                                                           \n",
      "                                                                 \n",
      " dropout_41 (Dropout)        (None, 64)                0         \n",
      "                                                                 \n",
      " dense_4 (Dense)             (None, 1)                 65        \n",
      "                                                                 \n",
      "=================================================================\n",
      "Total params: 205121 (801.25 KB)\n",
      "Trainable params: 205121 (801.25 KB)\n",
      "Non-trainable params: 0 (0.00 Byte)\n",
      "_________________________________________________________________\n"
     ]
    }
   ],
   "source": [
    "import tensorflow as tf \n",
    "from keras.models import load_model\n",
    "\n",
    "LSTM_model_path='/Users/withmocha/Desktop/DATA/BOAZ/미니 프로젝트 1/model/bi lstm/BiLSTM model.keras'\n",
    "LSTM_model = tf.keras.models.load_model(LSTM_model_path)\n",
    "LSTM_model.summary()"
   ]
  },
  {
   "cell_type": "code",
   "execution_count": 17,
   "metadata": {},
   "outputs": [
    {
     "data": {
      "text/plain": [
       "<tf.Tensor: shape=(6335, 128, 768), dtype=float32, numpy=\n",
       "array([[[-3.39894481e-02,  4.34486568e-02, -3.67913395e-04, ...,\n",
       "         -9.57523137e-02, -2.91928742e-02, -4.59877476e-02],\n",
       "        [ 9.79445428e-02, -1.11725554e-01,  1.32705137e-01, ...,\n",
       "          4.14046139e-01, -1.85978916e-02, -1.53752804e-01],\n",
       "        [ 2.67634671e-02,  8.76445770e-02, -2.23051757e-03, ...,\n",
       "          8.38902593e-02,  2.60981284e-02,  2.21404340e-02],\n",
       "        ...,\n",
       "        [-1.15029991e-01, -1.95390195e-01,  2.36002907e-01, ...,\n",
       "         -6.54841661e-01,  1.25894934e-01,  7.40672201e-02],\n",
       "        [-5.54237515e-02,  1.73273474e-01,  3.63890886e-01, ...,\n",
       "         -2.58570969e-01,  1.10757530e-01,  1.85237639e-02],\n",
       "        [-1.72375031e-02, -2.20326893e-02,  6.20599128e-02, ...,\n",
       "          6.84908181e-02,  7.90255144e-02,  3.16771306e-02]],\n",
       "\n",
       "       [[-6.71724677e-02,  2.74872072e-02, -6.77573029e-03, ...,\n",
       "         -8.83671716e-02, -5.00722043e-02,  1.09875193e-02],\n",
       "        [ 1.09439731e-01, -2.79452741e-01,  5.08171134e-03, ...,\n",
       "          5.87510169e-02, -2.11023033e-01,  2.68815249e-01],\n",
       "        [-3.70425023e-02,  2.09987629e-03,  1.93348639e-02, ...,\n",
       "          9.26675051e-02, -7.95051306e-02, -2.55311914e-02],\n",
       "        ...,\n",
       "        [-3.39117885e-01,  1.30392909e-01, -1.23594433e-01, ...,\n",
       "          2.41341427e-01, -2.22524002e-01,  1.18006796e-01],\n",
       "        [-1.71347842e-01, -5.96386567e-02,  4.88391854e-02, ...,\n",
       "          1.63274273e-01, -9.26572978e-02,  2.16669291e-02],\n",
       "        [-4.64161746e-02, -2.69051939e-02, -5.66505641e-03, ...,\n",
       "          1.61153913e-01, -5.02054170e-02,  5.09305783e-02]],\n",
       "\n",
       "       [[-2.55275313e-02,  1.24354057e-01,  5.09058088e-02, ...,\n",
       "         -4.54048589e-02, -8.80519301e-03, -2.49384549e-02],\n",
       "        [ 2.74989903e-02,  2.44619757e-01,  1.03456974e-02, ...,\n",
       "         -4.25629392e-02,  1.31018698e-01,  3.58989060e-01],\n",
       "        [ 2.29898483e-01,  3.85479093e-01,  1.20332628e-01, ...,\n",
       "         -1.48354933e-01, -5.72430119e-02,  5.73914424e-02],\n",
       "        ...,\n",
       "        [ 1.46049082e-01,  5.40091693e-02,  2.66720988e-02, ...,\n",
       "         -2.32474536e-01,  1.34601295e-01,  4.75441776e-02],\n",
       "        [ 1.09642655e-01,  1.88074663e-01,  9.25080627e-02, ...,\n",
       "         -1.22030273e-01, -4.41928767e-02,  4.99534570e-02],\n",
       "        [ 1.96033064e-02,  9.51238126e-02,  7.63100609e-02, ...,\n",
       "          2.65456885e-02, -2.89126318e-02,  8.11975896e-02]],\n",
       "\n",
       "       ...,\n",
       "\n",
       "       [[-4.92858514e-02,  5.55064529e-02, -4.72336821e-03, ...,\n",
       "         -6.00383505e-02, -2.19301824e-02, -4.46200324e-03],\n",
       "        [-1.46243796e-01,  1.75672501e-01,  1.33684352e-01, ...,\n",
       "         -5.44160008e-02, -6.94946200e-02,  3.47673178e-01],\n",
       "        [-1.62295282e-01,  4.61571068e-01, -1.90769568e-01, ...,\n",
       "          8.00965130e-02, -1.44024760e-01,  2.94358023e-02],\n",
       "        ...,\n",
       "        [ 4.66615893e-03, -2.56099924e-02,  5.55277467e-02, ...,\n",
       "         -1.42234340e-01, -1.88868776e-01,  1.59137830e-01],\n",
       "        [-7.06630647e-02, -2.87034139e-02,  1.55857243e-02, ...,\n",
       "         -3.23747247e-02, -3.50232273e-02,  1.89509332e-01],\n",
       "        [ 2.61018006e-03, -5.25533110e-02,  1.26870856e-01, ...,\n",
       "          5.49046397e-02, -2.86114756e-02,  1.11964546e-01]],\n",
       "\n",
       "       [[-3.68636996e-02,  1.22578219e-01,  3.05826366e-02, ...,\n",
       "         -9.69669074e-02, -1.52881704e-02, -6.81472104e-03],\n",
       "        [ 5.57048880e-02,  4.41630073e-02,  7.23461211e-02, ...,\n",
       "          1.81791931e-02,  7.30735660e-02,  7.40465671e-02],\n",
       "        [-1.73465349e-02, -1.15301371e-01,  4.87668924e-02, ...,\n",
       "          1.18330926e-01, -1.14416659e-01,  1.45149320e-01],\n",
       "        ...,\n",
       "        [-6.19861148e-02,  1.42928824e-01,  3.77683528e-02, ...,\n",
       "         -4.11459148e-01,  1.49402365e-01,  8.94455239e-02],\n",
       "        [-2.25081071e-02,  1.21167071e-01,  1.44401863e-02, ...,\n",
       "         -1.30671769e-01, -1.98674854e-02, -2.87294835e-02],\n",
       "        [ 4.00901772e-02,  3.30825374e-02,  8.89493227e-02, ...,\n",
       "         -1.24893703e-01, -5.11679798e-04,  2.13322848e-01]],\n",
       "\n",
       "       [[-8.21780935e-02,  4.64214236e-02,  3.18813138e-03, ...,\n",
       "         -7.90111646e-02, -3.39473747e-02, -1.53124863e-02],\n",
       "        [ 7.20073432e-02,  5.71563430e-02,  6.26338646e-02, ...,\n",
       "          1.27789795e-01, -8.32176954e-02,  1.48921385e-02],\n",
       "        [ 9.67190117e-02,  3.92930627e-01,  5.85238114e-02, ...,\n",
       "          3.00026536e-01, -3.05965338e-02, -9.32522789e-02],\n",
       "        ...,\n",
       "        [-4.92944121e-02,  5.38885742e-02, -5.68829887e-02, ...,\n",
       "         -2.92682678e-01,  9.92845744e-02, -1.41511500e-01],\n",
       "        [-1.92562789e-02, -6.01676926e-02, -6.44620359e-02, ...,\n",
       "         -2.13401556e-01, -5.60408309e-02, -8.04802403e-03],\n",
       "        [-7.47120455e-02,  2.26724874e-02, -1.23001635e-01, ...,\n",
       "          6.17815107e-02, -7.59493932e-02,  1.57855794e-01]]],\n",
       "      dtype=float32)>"
      ]
     },
     "execution_count": 17,
     "metadata": {},
     "output_type": "execute_result"
    }
   ],
   "source": [
    "val_features"
   ]
  },
  {
   "cell_type": "code",
   "execution_count": 18,
   "metadata": {},
   "outputs": [
    {
     "name": "stdout",
     "output_type": "stream",
     "text": [
      "198/198 [==============================] - 9s 38ms/step\n"
     ]
    },
    {
     "data": {
      "image/png": "[encoded data removed]",
      "text/plain": [
       "<Figure size 640x480 with 1 Axes>"
      ]
     },
     "metadata": {},
     "output_type": "display_data"
    }
   ],
   "source": [
    "import itertools\n",
    "import matplotlib.pyplot as plt\n",
    "from sklearn.metrics import roc_curve, auc, precision_recall_curve, confusion_matrix, accuracy_score\n",
    "\n",
    "val_pred = LSTM_model.predict(val_features)\n",
    "val_pred = (val_pred > 0.5).astype(int)\n",
    "\n",
    "import matplotlib.pyplot as plt\n",
    "from sklearn.metrics import roc_curve, auc, precision_recall_curve, confusion_matrix, accuracy_score\n",
    "\n",
    "fpr, tpr, _ = roc_curve(val_labels, val_pred)\n",
    "roc_auc = auc(fpr, tpr)\n",
    "\n",
    "plt.figure()\n",
    "plt.plot(fpr, tpr, color='darkorange', lw=2, label='ROC curve (area = %0.2f)' % roc_auc)\n",
    "plt.plot([0, 1], [0, 1], color='navy', lw=2, linestyle='--')\n",
    "plt.xlim([0.0, 1.0])\n",
    "plt.ylim([0.0, 1.05])\n",
    "plt.xlabel('False Positive Rate')\n",
    "plt.ylabel('True Positive Rate')\n",
    "plt.title('Receiver Operating Characteristic')\n",
    "plt.legend(loc=\"lower right\")\n",
    "plt.show()"
   ]
  },
  {
   "cell_type": "code",
   "execution_count": 19,
   "metadata": {},
   "outputs": [
    {
     "data": {
      "image/png": "[encoded data removed]",
      "text/plain": [
       "<Figure size 640x480 with 1 Axes>"
      ]
     },
     "metadata": {},
     "output_type": "display_data"
    }
   ],
   "source": [
    "precision, recall, _ = precision_recall_curve(val_labels, val_pred)\n",
    "prc_auc = auc(recall, precision)\n",
    "\n",
    "plt.figure()\n",
    "plt.plot(recall, precision, color='blue', lw=2, label='PRC curve (area = %0.2f)' % prc_auc)\n",
    "plt.xlabel('Recall')\n",
    "plt.ylabel('Precision')\n",
    "plt.title('Precision-Recall Curve')\n",
    "plt.legend(loc=\"lower left\")\n",
    "plt.show()"
   ]
  },
  {
   "cell_type": "code",
   "execution_count": 20,
   "metadata": {},
   "outputs": [
    {
     "data": {
      "image/png": "[encoded data removed]",
      "text/plain": [
       "<Figure size 800x600 with 2 Axes>"
      ]
     },
     "metadata": {},
     "output_type": "display_data"
    }
   ],
   "source": [
    "import itertools\n",
    "\n",
    "conf_matrix = confusion_matrix(val_labels, val_pred)\n",
    "plt.figure(figsize=(8, 6))\n",
    "plt.imshow(conf_matrix, interpolation='nearest', cmap=plt.cm.Blues)\n",
    "plt.title('Confusion Matrix')\n",
    "plt.colorbar()\n",
    "tick_marks = np.arange(2)\n",
    "plt.xticks(tick_marks, ['Fake', 'Real'], rotation=45)\n",
    "plt.yticks(tick_marks, ['Fake', 'Real'])\n",
    "\n",
    "thresh = conf_matrix.max() / 2.\n",
    "for i, j in itertools.product(range(conf_matrix.shape[0]), range(conf_matrix.shape[1])):\n",
    "    plt.text(j, i, format(conf_matrix[i, j], 'd'),\n",
    "             horizontalalignment=\"center\",\n",
    "             color=\"white\" if conf_matrix[i, j] > thresh else \"black\")\n",
    "\n",
    "plt.tight_layout()\n",
    "plt.ylabel('True label')\n",
    "plt.xlabel('Predicted label')\n",
    "plt.show()"
   ]
  },
  {
   "cell_type": "code",
   "execution_count": 21,
   "metadata": {},
   "outputs": [
    {
     "name": "stdout",
     "output_type": "stream",
     "text": [
      "Accuracy Score: 0.9835832675611681\n"
     ]
    }
   ],
   "source": [
    "accuracy = accuracy_score(val_labels, val_pred)\n",
    "print('Accuracy Score:', accuracy)"
   ]
  },
  {
   "cell_type": "code",
   "execution_count": null,
   "metadata": {},
   "outputs": [],
   "source": []
  }
 ],
 "metadata": {
  "kernelspec": {
   "display_name": "conda_cpu",
   "language": "python",
   "name": "python3"
  },
  "language_info": {
   "codemirror_mode": {
    "name": "ipython",
    "version": 3
   },
   "file_extension": ".py",
   "mimetype": "text/x-python",
   "name": "python",
   "nbconvert_exporter": "python",
   "pygments_lexer": "ipython3",
   "version": "3.12.3"
  }
 },
 "nbformat": 4,
 "nbformat_minor": 2
}
